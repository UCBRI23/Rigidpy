{
 "cells": [
  {
   "cell_type": "markdown",
   "source": [
    "# Basic Example"
   ],
   "metadata": {}
  },
  {
   "cell_type": "markdown",
   "source": [
    "## First, import the needed libraries and files\n",
    "\n",
    "You only need the bond list and the coordinates of the nodes in a network to be able to use ‍`rigidpy‍`. I have added a sample network here. The bond list contains information about nodes that are connected. For example (0,1) means nodes 0 and 1 are connected. The coordinates (in $2$D) is an array of $x$ and $y$ coordinates for all the nodes. The number of rows in the array shows the label of node in the network (starting from zero)."
   ],
   "metadata": {}
  },
  {
   "cell_type": "code",
   "execution_count": 10,
   "source": [
    "import networkx as nx\n",
    "import numpy as np\n",
    "import rigidpy as rp\n",
    "import matplotlib.pyplot as plt\n",
    "%matplotlib inline"
   ],
   "outputs": [],
   "metadata": {}
  },
  {
   "cell_type": "code",
   "execution_count": 13,
   "source": [
    "# list of bond\n",
    "bonds = np.array([[0,1],[1,2],[0,2]])\n",
    "# position of nodes\n",
    "coordinates = coordinates = np.array([[-1,0], [1,0], [0,1]])\n",
    "# repetition of unit-cell\n",
    "basis = [[0,0],[0,0]]\n",
    "# which site is pinned in space\n",
    "pins = [0]"
   ],
   "outputs": [],
   "metadata": {}
  },
  {
   "cell_type": "code",
   "execution_count": 14,
   "source": [
    "print (coordinates)"
   ],
   "outputs": [
    {
     "output_type": "stream",
     "name": "stdout",
     "text": [
      "[[-1  0]\n",
      " [ 1  0]\n",
      " [ 0  1]]\n"
     ]
    }
   ],
   "metadata": {}
  },
  {
   "cell_type": "code",
   "execution_count": 15,
   "source": [
    "print (bonds)"
   ],
   "outputs": [
    {
     "output_type": "stream",
     "name": "stdout",
     "text": [
      "[[0 1]\n",
      " [1 2]\n",
      " [0 2]]\n"
     ]
    }
   ],
   "metadata": {}
  },
  {
   "cell_type": "markdown",
   "source": [
    "## Build a Framework "
   ],
   "metadata": {}
  },
  {
   "cell_type": "markdown",
   "source": [
    "Create a `framework` object:"
   ],
   "metadata": {}
  },
  {
   "cell_type": "code",
   "execution_count": 17,
   "source": [
    "F = rp.framework(coordinates, bonds, basis=basis, pins=pins)"
   ],
   "outputs": [],
   "metadata": {}
  },
  {
   "cell_type": "markdown",
   "source": [
    "Calculate the rigidity matrix:"
   ],
   "metadata": {}
  },
  {
   "cell_type": "code",
   "execution_count": 19,
   "source": [
    "print (\"rigidity matrix:\\n\", F.rigidityMatrix())"
   ],
   "outputs": [
    {
     "output_type": "stream",
     "name": "stdout",
     "text": [
      "rigidity matrix:\n",
      " [[ 1.         -0.          0.          0.        ]\n",
      " [ 0.70710678 -0.70710678 -0.70710678  0.70710678]\n",
      " [ 0.          0.          0.70710678  0.70710678]]\n"
     ]
    }
   ],
   "metadata": {}
  },
  {
   "cell_type": "markdown",
   "source": [
    "Calculate the eigenvalues of Hessian/dynamical matrix:"
   ],
   "metadata": {}
  },
  {
   "cell_type": "code",
   "execution_count": 20,
   "source": [
    "eigvals, eigvecs = F.eigenSpace(eigvals=(0,3))\n",
    "print(\"vibrational eigenvalues:\\n\",eigvals)"
   ],
   "outputs": [
    {
     "output_type": "stream",
     "name": "stdout",
     "text": [
      "vibrational eigenvalues:\n",
      " [-2.22044605e-16  6.33974596e-01  1.00000000e+00  2.36602540e+00]\n"
     ]
    }
   ],
   "metadata": {}
  },
  {
   "cell_type": "markdown",
   "source": [
    "Note that a system with $N$ sites in $d$ dimensions, has at most $N \\times d$ frequencies. However, since one site is pinned in this example, the number of frequencies is 4. If you specify a larger number, the library will tell you the maximum range:"
   ],
   "metadata": {}
  },
  {
   "cell_type": "code",
   "execution_count": 31,
   "source": [
    "F.eigenSpace(eigvals=(0,6))"
   ],
   "outputs": [
    {
     "output_type": "error",
     "ename": "ValueError",
     "evalue": "Requested eigenvalue indices are not valid. Valid range is [0, 3] and start <= end, but start=0, end=6 is given",
     "traceback": [
      "\u001b[0;31m---------------------------------------------------------------------------\u001b[0m",
      "\u001b[0;31mValueError\u001b[0m                                Traceback (most recent call last)",
      "\u001b[0;32m<ipython-input-31-96a8a6a366e1>\u001b[0m in \u001b[0;36m<module>\u001b[0;34m\u001b[0m\n\u001b[0;32m----> 1\u001b[0;31m \u001b[0mF\u001b[0m\u001b[0;34m.\u001b[0m\u001b[0meigenSpace\u001b[0m\u001b[0;34m(\u001b[0m\u001b[0meigvals\u001b[0m\u001b[0;34m=\u001b[0m\u001b[0;34m(\u001b[0m\u001b[0;36m0\u001b[0m\u001b[0;34m,\u001b[0m\u001b[0;36m6\u001b[0m\u001b[0;34m)\u001b[0m\u001b[0;34m)\u001b[0m\u001b[0;34m\u001b[0m\u001b[0;34m\u001b[0m\u001b[0m\n\u001b[0m",
      "\u001b[0;32m~/repository/Rigidpy/rigidpy/framework.py\u001b[0m in \u001b[0;36meigenSpace\u001b[0;34m(self, eigvals)\u001b[0m\n\u001b[1;32m    340\u001b[0m \u001b[0;34m\u001b[0m\u001b[0m\n\u001b[1;32m    341\u001b[0m         \u001b[0mH\u001b[0m \u001b[0;34m=\u001b[0m \u001b[0mself\u001b[0m\u001b[0;34m.\u001b[0m\u001b[0mhessianMatrix\u001b[0m\u001b[0;34m(\u001b[0m\u001b[0;34m)\u001b[0m\u001b[0;34m\u001b[0m\u001b[0;34m\u001b[0m\u001b[0m\n\u001b[0;32m--> 342\u001b[0;31m         \u001b[0mevalues\u001b[0m\u001b[0;34m,\u001b[0m \u001b[0mevectors\u001b[0m \u001b[0;34m=\u001b[0m \u001b[0meigh\u001b[0m\u001b[0;34m(\u001b[0m\u001b[0mH\u001b[0m\u001b[0;34m,\u001b[0m \u001b[0meigvals\u001b[0m\u001b[0;34m=\u001b[0m\u001b[0meigvals\u001b[0m\u001b[0;34m)\u001b[0m\u001b[0;34m\u001b[0m\u001b[0;34m\u001b[0m\u001b[0m\n\u001b[0m\u001b[1;32m    343\u001b[0m \u001b[0;34m\u001b[0m\u001b[0m\n\u001b[1;32m    344\u001b[0m         \"\"\"if self.pins:\n",
      "\u001b[0;32m/opt/miniconda3/envs/myenv/lib/python3.9/site-packages/scipy/linalg/decomp.py\u001b[0m in \u001b[0;36meigh\u001b[0;34m(a, b, lower, eigvals_only, overwrite_a, overwrite_b, turbo, eigvals, type, check_finite, subset_by_index, subset_by_value, driver)\u001b[0m\n\u001b[1;32m    484\u001b[0m         \u001b[0mlo\u001b[0m\u001b[0;34m,\u001b[0m \u001b[0mhi\u001b[0m \u001b[0;34m=\u001b[0m \u001b[0;34m[\u001b[0m\u001b[0mint\u001b[0m\u001b[0;34m(\u001b[0m\u001b[0mx\u001b[0m\u001b[0;34m)\u001b[0m \u001b[0;32mfor\u001b[0m \u001b[0mx\u001b[0m \u001b[0;32min\u001b[0m \u001b[0msubset_by_index\u001b[0m\u001b[0;34m]\u001b[0m\u001b[0;34m\u001b[0m\u001b[0;34m\u001b[0m\u001b[0m\n\u001b[1;32m    485\u001b[0m         \u001b[0;32mif\u001b[0m \u001b[0;32mnot\u001b[0m \u001b[0;34m(\u001b[0m\u001b[0;36m0\u001b[0m \u001b[0;34m<=\u001b[0m \u001b[0mlo\u001b[0m \u001b[0;34m<=\u001b[0m \u001b[0mhi\u001b[0m \u001b[0;34m<\u001b[0m \u001b[0mn\u001b[0m\u001b[0;34m)\u001b[0m\u001b[0;34m:\u001b[0m\u001b[0;34m\u001b[0m\u001b[0;34m\u001b[0m\u001b[0m\n\u001b[0;32m--> 486\u001b[0;31m             raise ValueError('Requested eigenvalue indices are not valid. '\n\u001b[0m\u001b[1;32m    487\u001b[0m                              \u001b[0;34m'Valid range is [0, {}] and start <= end, but '\u001b[0m\u001b[0;34m\u001b[0m\u001b[0;34m\u001b[0m\u001b[0m\n\u001b[1;32m    488\u001b[0m                              'start={}, end={} is given'.format(n-1, lo, hi))\n",
      "\u001b[0;31mValueError\u001b[0m: Requested eigenvalue indices are not valid. Valid range is [0, 3] and start <= end, but start=0, end=6 is given"
     ]
    }
   ],
   "metadata": {}
  },
  {
   "cell_type": "code",
   "execution_count": null,
   "source": [],
   "outputs": [],
   "metadata": {}
  }
 ],
 "metadata": {
  "interpreter": {
   "hash": "998658dcfcf8a395a02706f498ddc86aa6756b9b67f7f87b441900ca16fde5f8"
  },
  "kernelspec": {
   "display_name": "Python 3",
   "language": "python",
   "name": "python3"
  },
  "language_info": {
   "codemirror_mode": {
    "name": "ipython",
    "version": 3
   },
   "file_extension": ".py",
   "mimetype": "text/x-python",
   "name": "python",
   "nbconvert_exporter": "python",
   "pygments_lexer": "ipython3",
   "version": "3.9.5"
  }
 },
 "nbformat": 4,
 "nbformat_minor": 2
}